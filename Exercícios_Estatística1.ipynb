{
  "nbformat": 4,
  "nbformat_minor": 0,
  "metadata": {
    "colab": {
      "name": "Exercícios_Estatística1.ipynb",
      "provenance": [],
      "authorship_tag": "ABX9TyOK6Gm2LqklkPvWAjWoXDN7",
      "include_colab_link": true
    },
    "kernelspec": {
      "name": "ir",
      "display_name": "R"
    },
    "language_info": {
      "name": "R"
    }
  },
  "cells": [
    {
      "cell_type": "markdown",
      "metadata": {
        "id": "view-in-github",
        "colab_type": "text"
      },
      "source": [
        "<a href=\"https://colab.research.google.com/github/vitoriamoniqueresende/Estat-stica-com-R/blob/main/Exerc%C3%ADcios_Estat%C3%ADstica1.ipynb\" target=\"_parent\"><img src=\"https://colab.research.google.com/assets/colab-badge.svg\" alt=\"Open In Colab\"/></a>"
      ]
    },
    {
      "cell_type": "code",
      "execution_count": 1,
      "metadata": {
        "colab": {
          "base_uri": "https://localhost:8080/"
        },
        "id": "lEM3hzcTmoEa",
        "outputId": "59f57469-90f0-45db-faef-6b8889e4992f"
      },
      "outputs": [
        {
          "output_type": "stream",
          "name": "stderr",
          "text": [
            "\n",
            "Attaching package: ‘dplyr’\n",
            "\n",
            "\n",
            "The following objects are masked from ‘package:stats’:\n",
            "\n",
            "    filter, lag\n",
            "\n",
            "\n",
            "The following objects are masked from ‘package:base’:\n",
            "\n",
            "    intersect, setdiff, setequal, union\n",
            "\n",
            "\n"
          ]
        }
      ],
      "source": [
        "library(dplyr)"
      ]
    },
    {
      "cell_type": "markdown",
      "source": [
        "Determine o número de amostras (n)"
      ],
      "metadata": {
        "id": "OoXkl3pZ2qgF"
      }
    },
    {
      "cell_type": "code",
      "source": [
        "n<-c(28,6,17,48,63,47,27,21,3,7,12,39,50,54,33,45,15,24,1,7,36,53,46,27,5,10,\n",
        "32,50,52,11,42,22,3,17,34,56,25,2,30,10,33,1,49,13,16,8,31,21,6,9,2,11,32,25,0,55,23,41,29,\n",
        "4,51,1,6,31,5,5,11,4,10,26,12,6,16,8,2,4,28)\n",
        "length(n)"
      ],
      "metadata": {
        "colab": {
          "base_uri": "https://localhost:8080/",
          "height": 34
        },
        "id": "CNPkn0B20hYz",
        "outputId": "56810ac6-fb0d-4feb-8f47-396b5d7749f8"
      },
      "execution_count": 8,
      "outputs": [
        {
          "output_type": "display_data",
          "data": {
            "text/html": [
              "77"
            ],
            "text/markdown": "77",
            "text/latex": "77",
            "text/plain": [
              "[1] 77"
            ]
          },
          "metadata": {}
        }
      ]
    },
    {
      "cell_type": "markdown",
      "source": [
        "Calcule os valores de K (intervalos de classe)"
      ],
      "metadata": {
        "id": "7WAljvIr20cQ"
      }
    },
    {
      "cell_type": "code",
      "source": [
        "k<-sqrt(77)\n",
        "print(k)"
      ],
      "metadata": {
        "colab": {
          "base_uri": "https://localhost:8080/"
        },
        "id": "IWUoG_MH3LbX",
        "outputId": "44bddb8e-7492-4b18-b9c2-8ea7ff265c15"
      },
      "execution_count": 13,
      "outputs": [
        {
          "output_type": "stream",
          "name": "stdout",
          "text": [
            "[1] 8.774964\n"
          ]
        }
      ]
    },
    {
      "cell_type": "code",
      "source": [
        "k2<-(1+3.3)*log10(77)\n",
        "print(k2)"
      ],
      "metadata": {
        "colab": {
          "base_uri": "https://localhost:8080/"
        },
        "id": "4O81GpFN4FfO",
        "outputId": "dd84e8e5-438b-42cb-8023-608bb3e1b7f5"
      },
      "execution_count": 16,
      "outputs": [
        {
          "output_type": "stream",
          "name": "stdout",
          "text": [
            "[1] 8.11191\n"
          ]
        }
      ]
    },
    {
      "cell_type": "markdown",
      "source": [
        "K escolhido = 8"
      ],
      "metadata": {
        "id": "7pMJBbZ545RC"
      }
    },
    {
      "cell_type": "markdown",
      "source": [
        "Apresente o menor e o maior valor dos dados\n",
        "MIN= 0\n",
        "MAX= 63\n",
        "A= 63"
      ],
      "metadata": {
        "id": "1M-AP1-v4--O"
      }
    },
    {
      "cell_type": "code",
      "source": [
        "min(n)"
      ],
      "metadata": {
        "colab": {
          "base_uri": "https://localhost:8080/",
          "height": 34
        },
        "id": "Jsy-1IpX7bhe",
        "outputId": "1a0a2e92-b9c0-4302-9a92-6496a4a5ffd8"
      },
      "execution_count": 18,
      "outputs": [
        {
          "output_type": "display_data",
          "data": {
            "text/html": [
              "0"
            ],
            "text/markdown": "0",
            "text/latex": "0",
            "text/plain": [
              "[1] 0"
            ]
          },
          "metadata": {}
        }
      ]
    },
    {
      "cell_type": "code",
      "source": [
        "max(n)"
      ],
      "metadata": {
        "colab": {
          "base_uri": "https://localhost:8080/",
          "height": 34
        },
        "id": "R4spGGGV7ed9",
        "outputId": "d5d467aa-f80b-476a-ea54-1523cb89cb71"
      },
      "execution_count": 19,
      "outputs": [
        {
          "output_type": "display_data",
          "data": {
            "text/html": [
              "63"
            ],
            "text/markdown": "63",
            "text/latex": "63",
            "text/plain": [
              "[1] 63"
            ]
          },
          "metadata": {}
        }
      ]
    },
    {
      "cell_type": "markdown",
      "source": [
        "Comprimento de cada intervalo de classes"
      ],
      "metadata": {
        "id": "vR8V01cb5lnS"
      }
    },
    {
      "cell_type": "code",
      "source": [
        "h<-(63/8)\n",
        "print(h)"
      ],
      "metadata": {
        "colab": {
          "base_uri": "https://localhost:8080/"
        },
        "id": "7e6c7cUh5pdp",
        "outputId": "f2451450-4313-42dc-bdc5-47e6881502df"
      },
      "execution_count": 17,
      "outputs": [
        {
          "output_type": "stream",
          "name": "stdout",
          "text": [
            "[1] 7.875\n"
          ]
        }
      ]
    },
    {
      "cell_type": "markdown",
      "source": [
        "Utilizando h=8"
      ],
      "metadata": {
        "id": "Kw0bO2i56KWP"
      }
    },
    {
      "cell_type": "markdown",
      "source": [
        "Calcule a média dos dados"
      ],
      "metadata": {
        "id": "c64RsmT167x6"
      }
    },
    {
      "cell_type": "code",
      "source": [
        "media<-sum(n)/77\n",
        "print(media)"
      ],
      "metadata": {
        "colab": {
          "base_uri": "https://localhost:8080/"
        },
        "id": "T0-xgFgZ7R1t",
        "outputId": "265b5095-d761-4ae8-d66d-7fdc40dabf66"
      },
      "execution_count": 21,
      "outputs": [
        {
          "output_type": "stream",
          "name": "stdout",
          "text": [
            "[1] 22.66234\n"
          ]
        }
      ]
    },
    {
      "cell_type": "markdown",
      "source": [
        ""
      ],
      "metadata": {
        "id": "m1QZ4GFZIZrm"
      }
    }
  ]
}