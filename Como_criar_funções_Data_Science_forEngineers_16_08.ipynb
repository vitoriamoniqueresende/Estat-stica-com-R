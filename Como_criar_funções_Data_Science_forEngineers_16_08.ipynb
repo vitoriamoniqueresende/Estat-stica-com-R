{
  "nbformat": 4,
  "nbformat_minor": 0,
  "metadata": {
    "colab": {
      "name": "Como criar funções_Data_Science_forEngineers_16_08.ipynb",
      "provenance": [],
      "authorship_tag": "ABX9TyNbFM90l15ywTcPyq2TNze5",
      "include_colab_link": true
    },
    "kernelspec": {
      "name": "ir",
      "display_name": "R"
    },
    "language_info": {
      "name": "R"
    }
  },
  "cells": [
    {
      "cell_type": "markdown",
      "metadata": {
        "id": "view-in-github",
        "colab_type": "text"
      },
      "source": [
        "<a href=\"https://colab.research.google.com/github/vitoriamoniqueresende/Estat-stica-com-R/blob/main/Como_criar_fun%C3%A7%C3%B5es_Data_Science_forEngineers_16_08.ipynb\" target=\"_parent\"><img src=\"https://colab.research.google.com/assets/colab-badge.svg\" alt=\"Open In Colab\"/></a>"
      ]
    },
    {
      "cell_type": "markdown",
      "source": [
        "**Funções**"
      ],
      "metadata": {
        "id": "01Z7D586M4j4"
      }
    },
    {
      "cell_type": "markdown",
      "source": [
        "Criando função que calcula a área de um triângulo"
      ],
      "metadata": {
        "id": "g6_im9mlItmb"
      }
    },
    {
      "cell_type": "code",
      "source": [
        "area <- function (b,h){\n",
        "  A <-(b*h)/2\n",
        "  return (A)\n",
        "}"
      ],
      "metadata": {
        "id": "soQPA8xsJKK5"
      },
      "execution_count": 1,
      "outputs": []
    },
    {
      "cell_type": "markdown",
      "source": [
        "Executando a função"
      ],
      "metadata": {
        "id": "ZwmBP0SdJ2Uo"
      }
    },
    {
      "cell_type": "code",
      "source": [
        "area(5,3)\n",
        "area(h=3,b=5)"
      ],
      "metadata": {
        "colab": {
          "base_uri": "https://localhost:8080/",
          "height": 52
        },
        "id": "BTIGhRgWJ33d",
        "outputId": "31651263-bd8b-4edc-f5d9-fe8417e105fc"
      },
      "execution_count": 2,
      "outputs": [
        {
          "output_type": "display_data",
          "data": {
            "text/html": [
              "7.5"
            ],
            "text/markdown": "7.5",
            "text/latex": "7.5",
            "text/plain": [
              "[1] 7.5"
            ]
          },
          "metadata": {}
        },
        {
          "output_type": "display_data",
          "data": {
            "text/html": [
              "7.5"
            ],
            "text/markdown": "7.5",
            "text/latex": "7.5",
            "text/plain": [
              "[1] 7.5"
            ]
          },
          "metadata": {}
        }
      ]
    },
    {
      "cell_type": "markdown",
      "source": [
        "Criando uma função que retorna as raízes de uma função quadrática "
      ],
      "metadata": {
        "id": "MvlCwy1-KN8M"
      }
    },
    {
      "cell_type": "code",
      "source": [
        "raizes <- function(a,b,c){\n",
        "  delta <- (b^2-4*a*c) #calculando o discriminante\n",
        "  if (delta <0){\n",
        "      cat(\"Raizes Complexas\")\n",
        "  }else{\n",
        "    raiz1 <- (-b-sqrt(delta))/(2*a)\n",
        "    raiz2 <- (-b+sqrt(delta))/(2*a)\n",
        "    cat(raiz1, raiz2)\n",
        "  }\n",
        "}"
      ],
      "metadata": {
        "id": "42lxp01OKWc7"
      },
      "execution_count": 18,
      "outputs": []
    },
    {
      "cell_type": "code",
      "source": [
        "raizes(1,7,6)"
      ],
      "metadata": {
        "colab": {
          "base_uri": "https://localhost:8080/"
        },
        "id": "0oLr78jVKtcF",
        "outputId": "a2fdf562-2758-48f5-9347-2371ebb036c5"
      },
      "execution_count": 19,
      "outputs": [
        {
          "output_type": "stream",
          "name": "stdout",
          "text": [
            "-6 -1"
          ]
        }
      ]
    },
    {
      "cell_type": "markdown",
      "source": [
        "# Pacotes"
      ],
      "metadata": {
        "id": "Nk6qjPWgeQqm"
      }
    },
    {
      "cell_type": "markdown",
      "source": [
        "Pacote Survey: Utilizado para técnica de amostragem, para criar um plano amostral de amostra simples ou estratificada e realizar estimativas de parâmetros.\n"
      ],
      "metadata": {
        "id": "uhHGitB0eO3g"
      }
    },
    {
      "cell_type": "code",
      "source": [
        "#Instalar pacotes no R\n",
        "install.packages(\"survey\")"
      ],
      "metadata": {
        "colab": {
          "base_uri": "https://localhost:8080/"
        },
        "id": "rV3iqAnJd2xY",
        "outputId": "6b651f4c-46b3-4802-a937-124ba52304ae"
      },
      "execution_count": 20,
      "outputs": [
        {
          "output_type": "stream",
          "name": "stderr",
          "text": [
            "Installing package into ‘/usr/local/lib/R/site-library’\n",
            "(as ‘lib’ is unspecified)\n",
            "\n",
            "also installing the dependencies ‘Rcpp’, ‘minqa’, ‘numDeriv’, ‘mitools’\n",
            "\n",
            "\n"
          ]
        }
      ]
    },
    {
      "cell_type": "code",
      "source": [
        "#Carregar o pacote\n",
        "require(survey)"
      ],
      "metadata": {
        "colab": {
          "base_uri": "https://localhost:8080/"
        },
        "id": "WgVMxPt_eUPx",
        "outputId": "29fa34b3-8a54-475e-f76c-5d0361c9ca84"
      },
      "execution_count": 21,
      "outputs": [
        {
          "output_type": "stream",
          "name": "stderr",
          "text": [
            "Loading required package: survey\n",
            "\n",
            "Loading required package: grid\n",
            "\n",
            "Loading required package: Matrix\n",
            "\n",
            "Loading required package: survival\n",
            "\n",
            "\n",
            "Attaching package: ‘survey’\n",
            "\n",
            "\n",
            "The following object is masked from ‘package:graphics’:\n",
            "\n",
            "    dotchart\n",
            "\n",
            "\n"
          ]
        }
      ]
    },
    {
      "cell_type": "code",
      "source": [
        "install.packages(\"xlsx\")\n"
      ],
      "metadata": {
        "colab": {
          "base_uri": "https://localhost:8080/"
        },
        "id": "THMmQfBgeXuo",
        "outputId": "3dd76609-d931-4613-f226-741b42e8a037"
      },
      "execution_count": 22,
      "outputs": [
        {
          "output_type": "stream",
          "name": "stderr",
          "text": [
            "Installing package into ‘/usr/local/lib/R/site-library’\n",
            "(as ‘lib’ is unspecified)\n",
            "\n",
            "also installing the dependencies ‘rJava’, ‘xlsxjars’\n",
            "\n",
            "\n"
          ]
        }
      ]
    },
    {
      "cell_type": "markdown",
      "source": [
        "Exercícios de funções"
      ],
      "metadata": {
        "id": "tBCfRYfTej6q"
      }
    },
    {
      "cell_type": "markdown",
      "source": [
        "![Captura de tela 2022-08-16 180707.png](data:image/png;base64,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)\n"
      ],
      "metadata": {
        "id": "lyLd2ipMendp"
      }
    },
    {
      "cell_type": "code",
      "source": [
        "#a) a=1, b=-6, c=8"
      ],
      "metadata": {
        "id": "X-LqNEAXe7gU"
      },
      "execution_count": 23,
      "outputs": []
    },
    {
      "cell_type": "code",
      "source": [
        "raizes(1,-6,8)"
      ],
      "metadata": {
        "colab": {
          "base_uri": "https://localhost:8080/"
        },
        "id": "F4sxRZ9me_3X",
        "outputId": "51bb58aa-9dc5-443e-a4c8-9c6db73d0ed1"
      },
      "execution_count": 24,
      "outputs": [
        {
          "output_type": "stream",
          "name": "stdout",
          "text": [
            "2 4"
          ]
        }
      ]
    },
    {
      "cell_type": "code",
      "source": [
        "raizes(2,-4,5)"
      ],
      "metadata": {
        "colab": {
          "base_uri": "https://localhost:8080/"
        },
        "id": "6GeO-s0MfHKU",
        "outputId": "838688ab-254e-4a72-ec88-44e587aa5473"
      },
      "execution_count": 25,
      "outputs": [
        {
          "output_type": "stream",
          "name": "stdout",
          "text": [
            "Raizes Complexas"
          ]
        }
      ]
    },
    {
      "cell_type": "code",
      "source": [
        "raizes(1,-4,8)"
      ],
      "metadata": {
        "colab": {
          "base_uri": "https://localhost:8080/"
        },
        "id": "MPMo2zhSfMcx",
        "outputId": "ee373c62-97ca-43f1-a356-214157d31016"
      },
      "execution_count": 26,
      "outputs": [
        {
          "output_type": "stream",
          "name": "stdout",
          "text": [
            "Raizes Complexas"
          ]
        }
      ]
    },
    {
      "cell_type": "code",
      "source": [
        "raizes(-1,8,-17)"
      ],
      "metadata": {
        "colab": {
          "base_uri": "https://localhost:8080/"
        },
        "id": "mLYFGM4JfQ84",
        "outputId": "3934294d-0d5f-4e2b-f1fd-e25d41e17289"
      },
      "execution_count": 27,
      "outputs": [
        {
          "output_type": "stream",
          "name": "stdout",
          "text": [
            "Raizes Complexas"
          ]
        }
      ]
    },
    {
      "cell_type": "code",
      "source": [
        "raizes(-1,12,20)"
      ],
      "metadata": {
        "colab": {
          "base_uri": "https://localhost:8080/"
        },
        "id": "AEVFOF7xfXaK",
        "outputId": "d67091b1-b346-4172-95d1-57e48bf492d3"
      },
      "execution_count": 28,
      "outputs": [
        {
          "output_type": "stream",
          "name": "stdout",
          "text": [
            "13.48331 -1.483315"
          ]
        }
      ]
    },
    {
      "cell_type": "code",
      "source": [
        "raizes(-1,6,-5)"
      ],
      "metadata": {
        "colab": {
          "base_uri": "https://localhost:8080/"
        },
        "id": "OQmXCzoZfbao",
        "outputId": "181f9589-1308-4bdf-a63c-e1226e61f614"
      },
      "execution_count": 30,
      "outputs": [
        {
          "output_type": "stream",
          "name": "stdout",
          "text": [
            "5 1"
          ]
        }
      ]
    }
  ]
}